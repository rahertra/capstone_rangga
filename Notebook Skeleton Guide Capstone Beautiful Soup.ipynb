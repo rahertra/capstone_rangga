{
 "cells": [
  {
   "cell_type": "markdown",
   "metadata": {},
   "source": [
    "# Capstone Webscrapping using BeautifulSoup\n",
    "\n",
    "This notebook contains guidances & tasks on the data processing for the application\n",
    "\n",
    "(Please insert the background here )\n",
    "\n",
    "\n",
    "## Requesting the Data and Creating a BeautifulSoup\n",
    "\n",
    "Let's begin with requesting the web from the site with `get` method."
   ]
  },
  {
   "cell_type": "code",
   "execution_count": 1,
   "metadata": {},
   "outputs": [
    {
     "name": "stdout",
     "output_type": "stream",
     "text": [
      "Requirement already satisfied: dateparser in c:\\users\\rangga\\anaconda3\\lib\\site-packages (1.0.0)\n",
      "Requirement already satisfied: python-dateutil in c:\\users\\rangga\\anaconda3\\lib\\site-packages (from dateparser) (2.8.1)\n",
      "Requirement already satisfied: tzlocal in c:\\users\\rangga\\anaconda3\\lib\\site-packages (from dateparser) (2.1)\n",
      "Requirement already satisfied: pytz in c:\\users\\rangga\\anaconda3\\lib\\site-packages (from dateparser) (2020.1)\n",
      "Requirement already satisfied: regex!=2019.02.19 in c:\\users\\rangga\\anaconda3\\lib\\site-packages (from dateparser) (2020.6.8)\n",
      "Requirement already satisfied: six>=1.5 in c:\\users\\rangga\\anaconda3\\lib\\site-packages (from python-dateutil->dateparser) (1.15.0)\n"
     ]
    }
   ],
   "source": [
    "!pip install dateparser"
   ]
  },
  {
   "cell_type": "code",
   "execution_count": 2,
   "metadata": {
    "ExecuteTime": {
     "end_time": "2020-01-13T05:12:23.275508Z",
     "start_time": "2020-01-13T05:12:20.009898Z"
    }
   },
   "outputs": [],
   "source": [
    "import requests\n",
    "\n",
    "url_get = requests.get('https://www.exchange-rates.org/history/IDR/USD/T')"
   ]
  },
  {
   "cell_type": "markdown",
   "metadata": {},
   "source": [
    "To visualize what exactly you get from the `request.get`, we can use .content so ee what we exactly get, in here i slice it so it won't make our screen full of the html we get from the page. You can delete the slicing if you want to see what we fully get."
   ]
  },
  {
   "cell_type": "code",
   "execution_count": 3,
   "metadata": {
    "ExecuteTime": {
     "end_time": "2020-01-13T05:12:23.290648Z",
     "start_time": "2020-01-13T05:12:23.277650Z"
    }
   },
   "outputs": [
    {
     "data": {
      "text/plain": [
       "b'\\n<!DOCTYPE html>\\r\\n<!--[if lt IE 9]>\\r\\n    <html class=\"no-js ie8 oldie\" lang=\\'en\\' xml:lang=\\'en\\'>\\r\\n<![endif]-->\\r\\n<!--[if gt IE 8]><!--> <html class=\"no-js\" lang=\\'en\\' xml:lang=\\'en\\'> <!--<![endif]-->\\r\\n<head><title>Indonesian Rupiah Exchange Rate - US Dollar - Historical Exchange Rates</title>\\n<meta http-equiv=\"X-UA-Compatible\" content=\"IE=edge\">\\n<meta content=\"C#\" name=\"CODE_LANGUAGE\" />\\n<meta content=\"JavaScript\" name=\"vs_defaultClientScript\" />\\n<meta content=\"http://schemas.microsoft.com/intellisense/ie5\" name=\"vs_targetSchema\" />\\n<meta name=\"viewport\" content=\"width=device-width, initial-scale=1, maximum-scale=5\">\\n<meta http-equiv=\"Content-Type\" content=\"text/html; charset=utf-8\" />\\n\\n<meta name=\"mapping\" content=\"AP\" />\\n<base href=\"https://www.exchange-rates.org/\" />'"
      ]
     },
     "execution_count": 3,
     "metadata": {},
     "output_type": "execute_result"
    }
   ],
   "source": [
    "url_get.content[1:777]"
   ]
  },
  {
   "cell_type": "markdown",
   "metadata": {},
   "source": [
    "As we can see we get a very unstructured and complex html, which actually contains the codes needed to show the webpages on your web browser. But we as human still confused what and where we can use that piece of code, so here where we use the beautifulsoup. Beautiful soup class will result a beautifulsoup object. Beautiful Soup transforms a complex HTML document into a complex tree of Python objects. \n",
    "\n",
    "Let's make Beautiful soup object and feel free to explore the object here."
   ]
  },
  {
   "cell_type": "code",
   "execution_count": 4,
   "metadata": {
    "ExecuteTime": {
     "end_time": "2020-01-13T05:12:23.808122Z",
     "start_time": "2020-01-13T05:12:23.292610Z"
    }
   },
   "outputs": [
    {
     "name": "stdout",
     "output_type": "stream",
     "text": [
      "<class 'bs4.BeautifulSoup'>\n"
     ]
    }
   ],
   "source": [
    "from bs4 import BeautifulSoup \n",
    "\n",
    "soup = BeautifulSoup(url_get.content,\"html.parser\")\n",
    "print(type(soup))"
   ]
  },
  {
   "cell_type": "markdown",
   "metadata": {},
   "source": [
    "## Finding the right key to scrap the data & Extracting the right information"
   ]
  },
  {
   "cell_type": "markdown",
   "metadata": {},
   "source": [
    "Find the key and put the key into the `.find()` Put all the exploring the right key at this cell. (please change this markdown with your explanation)"
   ]
  },
  {
   "cell_type": "code",
   "execution_count": 5,
   "metadata": {
    "ExecuteTime": {
     "end_time": "2020-01-13T05:12:23.878904Z",
     "start_time": "2020-01-13T05:12:23.854974Z"
    }
   },
   "outputs": [
    {
     "name": "stdout",
     "output_type": "stream",
     "text": [
      "table class=\"table table-striped table-hover table-hover-solid-row table-simple history-data\">\n",
      " <tbody>\n",
      "  <tr>\n",
      "   <td>\n",
      "    11/26/2020\n",
      "   </td>\n",
      "   <td>\n",
      "    Thursday\n",
      "   </td>\n",
      "   <td>\n",
      "    <a href=\"/Rate/USD/IDR/11-26-2020\">\n",
      "     14,090.70769\n",
      "    </a>\n",
      "    IDR\n",
      "   </td>\n",
      "   <td class=\"text-narrow-screen-hidden\">\n",
      "    <a href=\"/Rate/USD/IDR/11-26-2020\">\n",
      "     USD IDR rate for 11/26/2020\n",
      "    </a>\n",
      "   </td>\n",
      "  </tr>\n",
      "  <tr>\n",
      "   <td>\n",
      "    11/25/2020\n",
      "   </td>\n",
      "   <td>\n",
      "    Wednesday\n",
      "   </td>\n",
      "   <td>\n",
      "    <a href=\"/R\n"
     ]
    }
   ],
   "source": [
    "table = soup.find('table', attrs={'class':'table table-striped table-hover table-hover-solid-row table-simple history-data'})\n",
    "print(table.prettify()[1:500])"
   ]
  },
  {
   "cell_type": "code",
   "execution_count": 6,
   "metadata": {},
   "outputs": [
    {
     "data": {
      "text/plain": [
       "[<tr><td>11/26/2020</td><td>Thursday</td><td><a href=\"/Rate/USD/IDR/11-26-2020\">14,090.70769</a> IDR</td><td class=\"text-narrow-screen-hidden\"><a href=\"/Rate/USD/IDR/11-26-2020\">USD IDR rate for 11/26/2020</a></td></tr>,\n",
       " <tr><td>11/25/2020</td><td>Wednesday</td><td><a href=\"/Rate/USD/IDR/11-25-2020\">14,136.09929</a> IDR</td><td class=\"text-narrow-screen-hidden\"><a href=\"/Rate/USD/IDR/11-25-2020\">USD IDR rate for 11/25/2020</a></td></tr>]"
      ]
     },
     "execution_count": 6,
     "metadata": {},
     "output_type": "execute_result"
    }
   ],
   "source": [
    "tr = table.find_all('tr')\n",
    "tr[:2]"
   ]
  },
  {
   "cell_type": "markdown",
   "metadata": {},
   "source": [
    "Do the scrapping process here (please change this markdown with your explanation)"
   ]
  },
  {
   "cell_type": "code",
   "execution_count": 7,
   "metadata": {
    "ExecuteTime": {
     "end_time": "2020-01-13T05:12:24.008256Z",
     "start_time": "2020-01-13T05:12:23.980358Z"
    }
   },
   "outputs": [
    {
     "data": {
      "text/plain": [
       "[('11/25/2020', '14,136.09929 IDR'),\n",
       " ('11/24/2020', '14,137.48161 IDR'),\n",
       " ('11/23/2020', '14,185.57119 IDR'),\n",
       " ('11/20/2020', '14,162.60519 IDR'),\n",
       " ('11/19/2020', '14,165.50144 IDR'),\n",
       " ('11/18/2020', '14,051.29503 IDR'),\n",
       " ('11/17/2020', '14,040.16051 IDR'),\n",
       " ('11/16/2020', '14,085.69501 IDR'),\n",
       " ('11/13/2020', '14,142.77143 IDR'),\n",
       " ('11/12/2020', '14,141.24303 IDR'),\n",
       " ('11/11/2020', '14,073.46024 IDR'),\n",
       " ('11/10/2020', '14,053.76135 IDR'),\n",
       " ('11/9/2020', '14,283.29667 IDR'),\n",
       " ('11/6/2020', '14,214.49744 IDR'),\n",
       " ('11/5/2020', '14,389.14027 IDR'),\n",
       " ('11/4/2020', '14,544.44634 IDR'),\n",
       " ('11/3/2020', '14,589.01774 IDR'),\n",
       " ('11/2/2020', '14,612.89990 IDR'),\n",
       " ('10/30/2020', '14,629.16216 IDR'),\n",
       " ('10/29/2020', '14,701.62361 IDR'),\n",
       " ('10/28/2020', '14,701.92586 IDR'),\n",
       " ('10/27/2020', '14,649.78960 IDR'),\n",
       " ('10/26/2020', '14,652.88010 IDR'),\n",
       " ('10/23/2020', '14,655.04157 IDR'),\n",
       " ('10/22/2020', '14,647.90877 IDR'),\n",
       " ('10/21/2020', '14,641.61060 IDR'),\n",
       " ('10/20/2020', '14,555.88071 IDR'),\n",
       " ('10/19/2020', '14,705.13256 IDR'),\n",
       " ('10/16/2020', '14,688.43616 IDR'),\n",
       " ('10/15/2020', '14,667.95340 IDR'),\n",
       " ('10/14/2020', '14,696.21912 IDR'),\n",
       " ('10/13/2020', '14,687.35100 IDR'),\n",
       " ('10/12/2020', '14,677.85296 IDR'),\n",
       " ('10/9/2020', '14,679.27910 IDR'),\n",
       " ('10/8/2020', '14,692.93025 IDR'),\n",
       " ('10/7/2020', '14,705.58246 IDR'),\n",
       " ('10/6/2020', '14,857.67854 IDR'),\n",
       " ('10/5/2020', '14,797.90178 IDR'),\n",
       " ('10/2/2020', '14,852.30483 IDR'),\n",
       " ('10/1/2020', '14,822.66605 IDR'),\n",
       " ('9/30/2020', '14,867.44686 IDR'),\n",
       " ('9/29/2020', '14,880.93210 IDR'),\n",
       " ('9/28/2020', '14,892.32194 IDR'),\n",
       " ('9/27/2020', '14,859.98349 IDR'),\n",
       " ('9/25/2020', '14,855.63943 IDR'),\n",
       " ('9/24/2020', '14,888.78607 IDR'),\n",
       " ('9/23/2020', '14,825.54899 IDR'),\n",
       " ('9/22/2020', '14,751.85786 IDR'),\n",
       " ('9/21/2020', '14,701.43420 IDR'),\n",
       " ('9/20/2020', '14,728.84529 IDR'),\n",
       " ('9/18/2020', '14,730.71792 IDR'),\n",
       " ('9/17/2020', '14,829.41738 IDR'),\n",
       " ('9/16/2020', '14,807.88761 IDR'),\n",
       " ('9/15/2020', '14,843.44670 IDR'),\n",
       " ('9/14/2020', '14,864.65988 IDR'),\n",
       " ('9/13/2020', '14,876.45021 IDR'),\n",
       " ('9/11/2020', '14,865.27553 IDR'),\n",
       " ('9/10/2020', '14,871.58664 IDR'),\n",
       " ('9/9/2020', '14,783.50009 IDR'),\n",
       " ('9/8/2020', '14,839.54267 IDR'),\n",
       " ('9/7/2020', '14,743.92989 IDR'),\n",
       " ('9/6/2020', '14,754.95155 IDR'),\n",
       " ('9/4/2020', '14,755.44144 IDR'),\n",
       " ('9/3/2020', '14,725.75623 IDR'),\n",
       " ('9/2/2020', '14,752.83593 IDR'),\n",
       " ('9/1/2020', '14,657.30327 IDR'),\n",
       " ('8/31/2020', '14,538.95869 IDR'),\n",
       " ('8/30/2020', '14,620.74081 IDR'),\n",
       " ('8/28/2020', '14,624.63146 IDR'),\n",
       " ('8/27/2020', '14,641.58320 IDR'),\n",
       " ('8/26/2020', '14,650.54899 IDR'),\n",
       " ('8/25/2020', '14,634.54337 IDR'),\n",
       " ('8/24/2020', '14,723.44674 IDR'),\n",
       " ('8/23/2020', '14,777.76475 IDR'),\n",
       " ('8/21/2020', '14,779.64056 IDR'),\n",
       " ('8/20/2020', '14,744.53672 IDR'),\n",
       " ('8/19/2020', '14,892.13287 IDR'),\n",
       " ('8/18/2020', '14,840.94794 IDR'),\n",
       " ('8/17/2020', '14,745.02603 IDR'),\n",
       " ('8/16/2020', '14,752.59007 IDR'),\n",
       " ('8/14/2020', '14,755.08179 IDR'),\n",
       " ('8/13/2020', '14,730.67678 IDR'),\n",
       " ('8/12/2020', '14,746.93479 IDR'),\n",
       " ('8/11/2020', '14,683.96263 IDR'),\n",
       " ('8/10/2020', '14,635.89132 IDR'),\n",
       " ('8/9/2020', '14,668.96550 IDR'),\n",
       " ('8/7/2020', '14,606.06472 IDR'),\n",
       " ('8/6/2020', '14,572.05634 IDR'),\n",
       " ('8/5/2020', '14,510.27288 IDR'),\n",
       " ('8/4/2020', '14,535.77574 IDR'),\n",
       " ('8/3/2020', '14,578.90531 IDR'),\n",
       " ('8/2/2020', '14,636.91361 IDR'),\n",
       " ('7/31/2020', '14,640.92152 IDR'),\n",
       " ('7/30/2020', '14,552.65469 IDR'),\n",
       " ('7/29/2020', '14,500.86496 IDR'),\n",
       " ('7/28/2020', '14,572.13548 IDR'),\n",
       " ('7/27/2020', '14,505.01200 IDR'),\n",
       " ('7/26/2020', '14,578.95006 IDR'),\n",
       " ('7/24/2020', '14,568.35458 IDR'),\n",
       " ('7/23/2020', '14,605.50142 IDR'),\n",
       " ('7/22/2020', '14,651.65404 IDR'),\n",
       " ('7/21/2020', '14,679.86959 IDR'),\n",
       " ('7/20/2020', '14,773.77977 IDR'),\n",
       " ('7/17/2020', '14,690.05172 IDR'),\n",
       " ('7/16/2020', '14,564.60810 IDR'),\n",
       " ('7/15/2020', '14,589.26616 IDR'),\n",
       " ('7/14/2020', '14,417.89081 IDR'),\n",
       " ('7/13/2020', '14,390.84796 IDR'),\n",
       " ('7/12/2020', '14,420.01800 IDR'),\n",
       " ('7/10/2020', '14,365.25218 IDR'),\n",
       " ('7/9/2020', '14,343.31797 IDR'),\n",
       " ('7/8/2020', '14,378.37552 IDR'),\n",
       " ('7/7/2020', '14,445.31657 IDR'),\n",
       " ('7/6/2020', '14,289.25101 IDR'),\n",
       " ('7/5/2020', '14,498.63510 IDR'),\n",
       " ('7/3/2020', '14,488.65681 IDR'),\n",
       " ('7/2/2020', '14,378.36972 IDR'),\n",
       " ('7/1/2020', '14,256.13040 IDR'),\n",
       " ('6/30/2020', '14,296.90560 IDR'),\n",
       " ('6/29/2020', '14,183.53912 IDR'),\n",
       " ('6/28/2020', '14,185.08225 IDR'),\n",
       " ('6/26/2020', '14,190.21303 IDR'),\n",
       " ('6/25/2020', '14,130.57047 IDR'),\n",
       " ('6/24/2020', '14,143.17320 IDR'),\n",
       " ('6/23/2020', '14,148.27391 IDR'),\n",
       " ('6/22/2020', '14,136.05128 IDR'),\n",
       " ('6/21/2020', '14,068.55627 IDR'),\n",
       " ('6/19/2020', '14,077.63950 IDR'),\n",
       " ('6/18/2020', '14,095.36729 IDR'),\n",
       " ('6/17/2020', '14,120.02241 IDR'),\n",
       " ('6/16/2020', '14,046.73959 IDR'),\n",
       " ('6/15/2020', '14,021.62200 IDR'),\n",
       " ('6/14/2020', '14,145.23543 IDR'),\n",
       " ('6/12/2020', '14,121.55442 IDR'),\n",
       " ('6/11/2020', '13,966.85142 IDR'),\n",
       " ('6/10/2020', '13,976.91611 IDR'),\n",
       " ('6/9/2020', '13,870.75718 IDR'),\n",
       " ('6/8/2020', '13,867.95377 IDR'),\n",
       " ('6/7/2020', '13,989.39489 IDR'),\n",
       " ('6/5/2020', '14,305.96407 IDR'),\n",
       " ('6/4/2020', '14,113.82802 IDR'),\n",
       " ('6/3/2020', '14,060.78946 IDR'),\n",
       " ('6/2/2020', '14,382.27395 IDR'),\n",
       " ('6/1/2020', '14,586.73900 IDR'),\n",
       " ('5/31/2020', '14,664.14584 IDR')]"
      ]
     },
     "execution_count": 7,
     "metadata": {},
     "output_type": "execute_result"
    }
   ],
   "source": [
    "temp = [] #initiating a tuple\n",
    "\n",
    "for i in range(1, len(tr)):\n",
    "    row = table.find_all('tr')[i]\n",
    "    \n",
    "    #get bulan\n",
    "    period = row.find_all('td')[0].text\n",
    "    period = period.strip()\n",
    "\n",
    "    inflation = row.find_all('td')[2].text\n",
    "    inflation = inflation.strip()\n",
    "\n",
    "    temp.append((period,inflation))\n",
    "\n",
    "temp"
   ]
  },
  {
   "cell_type": "markdown",
   "metadata": {},
   "source": [
    "## Creating data frame & Data wrangling"
   ]
  },
  {
   "cell_type": "markdown",
   "metadata": {},
   "source": [
    "Put the array into dataframe"
   ]
  },
  {
   "cell_type": "code",
   "execution_count": 8,
   "metadata": {
    "ExecuteTime": {
     "end_time": "2020-01-13T05:12:41.517372Z",
     "start_time": "2020-01-13T05:12:29.130015Z"
    }
   },
   "outputs": [
    {
     "data": {
      "text/html": [
       "<div>\n",
       "<style scoped>\n",
       "    .dataframe tbody tr th:only-of-type {\n",
       "        vertical-align: middle;\n",
       "    }\n",
       "\n",
       "    .dataframe tbody tr th {\n",
       "        vertical-align: top;\n",
       "    }\n",
       "\n",
       "    .dataframe thead th {\n",
       "        text-align: right;\n",
       "    }\n",
       "</style>\n",
       "<table border=\"1\" class=\"dataframe\">\n",
       "  <thead>\n",
       "    <tr style=\"text-align: right;\">\n",
       "      <th></th>\n",
       "      <th>Tanggal</th>\n",
       "      <th>Kurs</th>\n",
       "    </tr>\n",
       "  </thead>\n",
       "  <tbody>\n",
       "    <tr>\n",
       "      <th>0</th>\n",
       "      <td>11/25/2020</td>\n",
       "      <td>14,136.09929 IDR</td>\n",
       "    </tr>\n",
       "    <tr>\n",
       "      <th>1</th>\n",
       "      <td>11/24/2020</td>\n",
       "      <td>14,137.48161 IDR</td>\n",
       "    </tr>\n",
       "    <tr>\n",
       "      <th>2</th>\n",
       "      <td>11/23/2020</td>\n",
       "      <td>14,185.57119 IDR</td>\n",
       "    </tr>\n",
       "    <tr>\n",
       "      <th>3</th>\n",
       "      <td>11/20/2020</td>\n",
       "      <td>14,162.60519 IDR</td>\n",
       "    </tr>\n",
       "    <tr>\n",
       "      <th>4</th>\n",
       "      <td>11/19/2020</td>\n",
       "      <td>14,165.50144 IDR</td>\n",
       "    </tr>\n",
       "  </tbody>\n",
       "</table>\n",
       "</div>"
      ],
      "text/plain": [
       "      Tanggal              Kurs\n",
       "0  11/25/2020  14,136.09929 IDR\n",
       "1  11/24/2020  14,137.48161 IDR\n",
       "2  11/23/2020  14,185.57119 IDR\n",
       "3  11/20/2020  14,162.60519 IDR\n",
       "4  11/19/2020  14,165.50144 IDR"
      ]
     },
     "execution_count": 8,
     "metadata": {},
     "output_type": "execute_result"
    }
   ],
   "source": [
    "import pandas as pd\n",
    "from datetime import datetime\n",
    "\n",
    "df = pd.DataFrame(temp, columns=('Tanggal','Kurs'))\n",
    "df.head()"
   ]
  },
  {
   "cell_type": "markdown",
   "metadata": {},
   "source": [
    "Do the data cleaning here (please change this markdown with your explanation of what you do for data wrangling)"
   ]
  },
  {
   "cell_type": "code",
   "execution_count": 9,
   "metadata": {},
   "outputs": [],
   "source": [
    "df['Kurs'] = df['Kurs'].apply(lambda x: x.replace(',', ''))\n",
    "df['Kurs'] = df['Kurs'].apply(lambda x: x.replace(' IDR', ''))"
   ]
  },
  {
   "cell_type": "code",
   "execution_count": 10,
   "metadata": {},
   "outputs": [
    {
     "name": "stdout",
     "output_type": "stream",
     "text": [
      "Requirement already satisfied: dateparser in c:\\users\\rangga\\anaconda3\\lib\\site-packages (1.0.0)\n",
      "Requirement already satisfied: pytz in c:\\users\\rangga\\anaconda3\\lib\\site-packages (from dateparser) (2020.1)\n",
      "Requirement already satisfied: regex!=2019.02.19 in c:\\users\\rangga\\anaconda3\\lib\\site-packages (from dateparser) (2020.6.8)\n",
      "Requirement already satisfied: python-dateutil in c:\\users\\rangga\\anaconda3\\lib\\site-packages (from dateparser) (2.8.1)\n",
      "Requirement already satisfied: tzlocal in c:\\users\\rangga\\anaconda3\\lib\\site-packages (from dateparser) (2.1)\n",
      "Requirement already satisfied: six>=1.5 in c:\\users\\rangga\\anaconda3\\lib\\site-packages (from python-dateutil->dateparser) (1.15.0)\n"
     ]
    }
   ],
   "source": [
    "!pip install dateparser"
   ]
  },
  {
   "cell_type": "code",
   "execution_count": 11,
   "metadata": {},
   "outputs": [],
   "source": [
    "import dateparser as dateparser"
   ]
  },
  {
   "cell_type": "code",
   "execution_count": 12,
   "metadata": {},
   "outputs": [],
   "source": [
    "df['Kurs'] = df['Kurs'].astype('float64')"
   ]
  },
  {
   "cell_type": "code",
   "execution_count": 13,
   "metadata": {},
   "outputs": [],
   "source": [
    "df['Tanggal']=df['Tanggal'].apply(dateparser.parse)"
   ]
  },
  {
   "cell_type": "code",
   "execution_count": 14,
   "metadata": {},
   "outputs": [
    {
     "data": {
      "text/plain": [
       "Tanggal    datetime64[ns]\n",
       "Kurs              float64\n",
       "dtype: object"
      ]
     },
     "execution_count": 14,
     "metadata": {},
     "output_type": "execute_result"
    }
   ],
   "source": [
    "df.dtypes"
   ]
  },
  {
   "cell_type": "code",
   "execution_count": 15,
   "metadata": {
    "ExecuteTime": {
     "end_time": "2020-01-13T05:12:59.165559Z",
     "start_time": "2020-01-13T05:12:58.910012Z"
    }
   },
   "outputs": [
    {
     "data": {
      "text/plain": [
       "<matplotlib.axes._subplots.AxesSubplot at 0x20b901efe80>"
      ]
     },
     "execution_count": 15,
     "metadata": {},
     "output_type": "execute_result"
    },
    {
     "data": {
      "image/png": "[encoded data removed]",
      "text/plain": [
       "<Figure size 432x288 with 1 Axes>"
      ]
     },
     "metadata": {
      "needs_background": "light"
     },
     "output_type": "display_data"
    }
   ],
   "source": [
    "df.set_index('Tanggal').plot(title='Kurs USD / IDR (Nilai Tukar US Dolar terhadap Rupiah')"
   ]
  },
  {
   "cell_type": "markdown",
   "metadata": {},
   "source": [
    "### Implementing your webscrapping to the flask dashboard\n",
    "\n",
    "- Copy paste all of your web scrapping process to the desired position on the `app.py`\n",
    "- Changing the title of the dasboard at `index.html`"
   ]
  },
  {
   "cell_type": "markdown",
   "metadata": {},
   "source": [
    "## Finishing This Notebook with Your Analysis and Conclusion\n",
    "\n",
    "First you can do start with making the data visualisation. "
   ]
  },
  {
   "cell_type": "raw",
   "metadata": {},
   "source": [
    "Nilai Kurs Rupiah sempat jatuh pada bulan JUNI dan November 2020."
   ]
  },
  {
   "cell_type": "markdown",
   "metadata": {},
   "source": [
    "\n",
    "(Put your analysis and conclusion here.)"
   ]
  },
  {
   "cell_type": "markdown",
   "metadata": {},
   "source": [
    "### Extra Challange\n",
    "\n",
    "This will be not included to the scoring. \n",
    "\n",
    "- You can create additional analysis from the data.\n",
    "- Implement it to the dashboard with at `app.py` dan `index.html`."
   ]
  }
 ],
 "metadata": {
  "kernelspec": {
   "display_name": "Python 3",
   "language": "python",
   "name": "python3"
  },
  "language_info": {
   "codemirror_mode": {
    "name": "ipython",
    "version": 3
   },
   "file_extension": ".py",
   "mimetype": "text/x-python",
   "name": "python",
   "nbconvert_exporter": "python",
   "pygments_lexer": "ipython3",
   "version": "3.8.3"
  },
  "toc": {
   "base_numbering": 1,
   "nav_menu": {},
   "number_sections": true,
   "sideBar": true,
   "skip_h1_title": false,
   "title_cell": "Table of Contents",
   "title_sidebar": "Contents",
   "toc_cell": false,
   "toc_position": {},
   "toc_section_display": true,
   "toc_window_display": false
  },
  "varInspector": {
   "cols": {
    "lenName": 16,
    "lenType": 16,
    "lenVar": 40
   },
   "kernels_config": {
    "python": {
     "delete_cmd_postfix": "",
     "delete_cmd_prefix": "del ",
     "library": "var_list.py",
     "varRefreshCmd": "print(var_dic_list())"
    },
    "r": {
     "delete_cmd_postfix": ") ",
     "delete_cmd_prefix": "rm(",
     "library": "var_list.r",
     "varRefreshCmd": "cat(var_dic_list()) "
    }
   },
   "types_to_exclude": [
    "module",
    "function",
    "builtin_function_or_method",
    "instance",
    "_Feature"
   ],
   "window_display": false
  }
 },
 "nbformat": 4,
 "nbformat_minor": 2
}
